{
 "cells": [
  {
   "attachments": {},
   "cell_type": "markdown",
   "metadata": {},
   "source": [
    "# **EDA**"
   ]
  },
  {
   "attachments": {},
   "cell_type": "markdown",
   "metadata": {},
   "source": [
    "### **Prepare data**"
   ]
  },
  {
   "cell_type": "code",
   "execution_count": 2,
   "metadata": {},
   "outputs": [],
   "source": [
    "import pandas as pd\n",
    "import numpy as np\n",
    "\n",
    "data = pd.read_csv('Tweets_cleaned_data.csv')"
   ]
  },
  {
   "cell_type": "code",
   "execution_count": 3,
   "metadata": {},
   "outputs": [
    {
     "data": {
      "text/html": [
       "<div>\n",
       "<style scoped>\n",
       "    .dataframe tbody tr th:only-of-type {\n",
       "        vertical-align: middle;\n",
       "    }\n",
       "\n",
       "    .dataframe tbody tr th {\n",
       "        vertical-align: top;\n",
       "    }\n",
       "\n",
       "    .dataframe thead th {\n",
       "        text-align: right;\n",
       "    }\n",
       "</style>\n",
       "<table border=\"1\" class=\"dataframe\">\n",
       "  <thead>\n",
       "    <tr style=\"text-align: right;\">\n",
       "      <th></th>\n",
       "      <th>target</th>\n",
       "      <th>id</th>\n",
       "      <th>date</th>\n",
       "      <th>flag</th>\n",
       "      <th>user</th>\n",
       "      <th>text</th>\n",
       "      <th>text2</th>\n",
       "      <th>text3</th>\n",
       "      <th>hashtags</th>\n",
       "      <th>tokens</th>\n",
       "      <th>tokens_remove_stopwords</th>\n",
       "      <th>length_1</th>\n",
       "    </tr>\n",
       "  </thead>\n",
       "  <tbody>\n",
       "    <tr>\n",
       "      <th>0</th>\n",
       "      <td>0</td>\n",
       "      <td>1467810369</td>\n",
       "      <td>Mon Apr 06 22:19:45 PDT 2009</td>\n",
       "      <td>NO_QUERY</td>\n",
       "      <td>_TheSpecialOne_</td>\n",
       "      <td>@switchfoot http://twitpic.com/2y1zl - awww, t...</td>\n",
       "      <td>awww thats a bummer you shoulda got david carr...</td>\n",
       "      <td>thats a bummer you got carr of third day to do...</td>\n",
       "      <td>NaN</td>\n",
       "      <td>['thats', 'a', 'bummer', 'you', 'got', 'carr',...</td>\n",
       "      <td>['thats', 'bummer', 'got', 'carr', 'third', 'd...</td>\n",
       "      <td>6</td>\n",
       "    </tr>\n",
       "    <tr>\n",
       "      <th>1</th>\n",
       "      <td>0</td>\n",
       "      <td>1467810672</td>\n",
       "      <td>Mon Apr 06 22:19:49 PDT 2009</td>\n",
       "      <td>NO_QUERY</td>\n",
       "      <td>scotthamilton</td>\n",
       "      <td>is upset that he can't update his facebook by ...</td>\n",
       "      <td>is upset that he cant update his facebook by t...</td>\n",
       "      <td>is upset that he cant update his by it and mig...</td>\n",
       "      <td>NaN</td>\n",
       "      <td>['is', 'upset', 'that', 'he', 'cant', 'update'...</td>\n",
       "      <td>['upset', 'cant', 'update', 'might', 'cry', 'r...</td>\n",
       "      <td>10</td>\n",
       "    </tr>\n",
       "    <tr>\n",
       "      <th>2</th>\n",
       "      <td>0</td>\n",
       "      <td>1467810917</td>\n",
       "      <td>Mon Apr 06 22:19:53 PDT 2009</td>\n",
       "      <td>NO_QUERY</td>\n",
       "      <td>mattycus</td>\n",
       "      <td>@kenichan i dived many times for the ball. man...</td>\n",
       "      <td>i dived many times for the ball managed to sav...</td>\n",
       "      <td>i many times for the ball to save the rest go ...</td>\n",
       "      <td>NaN</td>\n",
       "      <td>['i', 'many', 'times', 'for', 'the', 'ball', '...</td>\n",
       "      <td>['many', 'times', 'ball', 'save', 'rest', 'go']</td>\n",
       "      <td>6</td>\n",
       "    </tr>\n",
       "    <tr>\n",
       "      <th>3</th>\n",
       "      <td>0</td>\n",
       "      <td>1467811184</td>\n",
       "      <td>Mon Apr 06 22:19:57 PDT 2009</td>\n",
       "      <td>NO_QUERY</td>\n",
       "      <td>ElleCTF</td>\n",
       "      <td>my whole body feels itchy and like its on fire</td>\n",
       "      <td>my whole body feels itchy and like its on fire</td>\n",
       "      <td>my whole body itchy and like its on fire</td>\n",
       "      <td>NaN</td>\n",
       "      <td>['my', 'whole', 'body', 'itchy', 'and', 'like'...</td>\n",
       "      <td>['whole', 'body', 'itchy', 'like', 'fire']</td>\n",
       "      <td>5</td>\n",
       "    </tr>\n",
       "    <tr>\n",
       "      <th>4</th>\n",
       "      <td>0</td>\n",
       "      <td>1467811193</td>\n",
       "      <td>Mon Apr 06 22:19:57 PDT 2009</td>\n",
       "      <td>NO_QUERY</td>\n",
       "      <td>Karoli</td>\n",
       "      <td>@nationwideclass no, it's not behaving at all....</td>\n",
       "      <td>no its not behaving at all im mad why am i her...</td>\n",
       "      <td>no its not at all mad why am i here because i ...</td>\n",
       "      <td>NaN</td>\n",
       "      <td>['no', 'its', 'not', 'at', 'all', 'mad', 'why'...</td>\n",
       "      <td>['mad', 'cant', 'see']</td>\n",
       "      <td>3</td>\n",
       "    </tr>\n",
       "    <tr>\n",
       "      <th>...</th>\n",
       "      <td>...</td>\n",
       "      <td>...</td>\n",
       "      <td>...</td>\n",
       "      <td>...</td>\n",
       "      <td>...</td>\n",
       "      <td>...</td>\n",
       "      <td>...</td>\n",
       "      <td>...</td>\n",
       "      <td>...</td>\n",
       "      <td>...</td>\n",
       "      <td>...</td>\n",
       "      <td>...</td>\n",
       "    </tr>\n",
       "    <tr>\n",
       "      <th>1599995</th>\n",
       "      <td>4</td>\n",
       "      <td>2193601966</td>\n",
       "      <td>Tue Jun 16 08:40:49 PDT 2009</td>\n",
       "      <td>NO_QUERY</td>\n",
       "      <td>AmandaMarie1028</td>\n",
       "      <td>just woke up. having no school is the best fee...</td>\n",
       "      <td>just woke up having no school is the best feel...</td>\n",
       "      <td>just woke up no school is the best feeling ever</td>\n",
       "      <td>NaN</td>\n",
       "      <td>['just', 'woke', 'up', 'no', 'school', 'is', '...</td>\n",
       "      <td>['woke', 'school', 'best', 'feeling', 'ever']</td>\n",
       "      <td>5</td>\n",
       "    </tr>\n",
       "    <tr>\n",
       "      <th>1599996</th>\n",
       "      <td>4</td>\n",
       "      <td>2193601969</td>\n",
       "      <td>Tue Jun 16 08:40:49 PDT 2009</td>\n",
       "      <td>NO_QUERY</td>\n",
       "      <td>TheWDBoards</td>\n",
       "      <td>thewdb.com - very cool to hear old walt interv...</td>\n",
       "      <td>thewdbcom very cool to hear old walt interviews</td>\n",
       "      <td>very cool to hear old walt</td>\n",
       "      <td>NaN</td>\n",
       "      <td>['very', 'cool', 'to', 'hear', 'old', 'walt']</td>\n",
       "      <td>['cool', 'hear', 'old', 'walt']</td>\n",
       "      <td>4</td>\n",
       "    </tr>\n",
       "    <tr>\n",
       "      <th>1599997</th>\n",
       "      <td>4</td>\n",
       "      <td>2193601991</td>\n",
       "      <td>Tue Jun 16 08:40:49 PDT 2009</td>\n",
       "      <td>NO_QUERY</td>\n",
       "      <td>bpbabe</td>\n",
       "      <td>are you ready for your mojo makeover? ask me f...</td>\n",
       "      <td>are you ready for your mojo makeover ask me fo...</td>\n",
       "      <td>are you ready for your mojo ask me for</td>\n",
       "      <td>NaN</td>\n",
       "      <td>['are', 'you', 'ready', 'for', 'your', 'mojo',...</td>\n",
       "      <td>['ready', 'mojo', 'ask']</td>\n",
       "      <td>3</td>\n",
       "    </tr>\n",
       "    <tr>\n",
       "      <th>1599998</th>\n",
       "      <td>4</td>\n",
       "      <td>2193602064</td>\n",
       "      <td>Tue Jun 16 08:40:49 PDT 2009</td>\n",
       "      <td>NO_QUERY</td>\n",
       "      <td>tinydiamondz</td>\n",
       "      <td>happy 38th birthday to my boo of alll time!!! ...</td>\n",
       "      <td>happy 38th birthday to my boo of alll time tup...</td>\n",
       "      <td>happy birthday to my boo of time</td>\n",
       "      <td>NaN</td>\n",
       "      <td>['happy', 'birthday', 'to', 'my', 'boo', 'of',...</td>\n",
       "      <td>['happy', 'birthday', 'boo', 'time']</td>\n",
       "      <td>4</td>\n",
       "    </tr>\n",
       "    <tr>\n",
       "      <th>1599999</th>\n",
       "      <td>4</td>\n",
       "      <td>2193602129</td>\n",
       "      <td>Tue Jun 16 08:40:50 PDT 2009</td>\n",
       "      <td>NO_QUERY</td>\n",
       "      <td>RyanTrevMorris</td>\n",
       "      <td>happy #charitytuesday @thenspcc @sparkscharity...</td>\n",
       "      <td>happy</td>\n",
       "      <td>happy</td>\n",
       "      <td>#charitytuesday</td>\n",
       "      <td>['happy']</td>\n",
       "      <td>['happy']</td>\n",
       "      <td>1</td>\n",
       "    </tr>\n",
       "  </tbody>\n",
       "</table>\n",
       "<p>1600000 rows × 12 columns</p>\n",
       "</div>"
      ],
      "text/plain": [
       "         target          id                          date      flag   \n",
       "0             0  1467810369  Mon Apr 06 22:19:45 PDT 2009  NO_QUERY  \\\n",
       "1             0  1467810672  Mon Apr 06 22:19:49 PDT 2009  NO_QUERY   \n",
       "2             0  1467810917  Mon Apr 06 22:19:53 PDT 2009  NO_QUERY   \n",
       "3             0  1467811184  Mon Apr 06 22:19:57 PDT 2009  NO_QUERY   \n",
       "4             0  1467811193  Mon Apr 06 22:19:57 PDT 2009  NO_QUERY   \n",
       "...         ...         ...                           ...       ...   \n",
       "1599995       4  2193601966  Tue Jun 16 08:40:49 PDT 2009  NO_QUERY   \n",
       "1599996       4  2193601969  Tue Jun 16 08:40:49 PDT 2009  NO_QUERY   \n",
       "1599997       4  2193601991  Tue Jun 16 08:40:49 PDT 2009  NO_QUERY   \n",
       "1599998       4  2193602064  Tue Jun 16 08:40:49 PDT 2009  NO_QUERY   \n",
       "1599999       4  2193602129  Tue Jun 16 08:40:50 PDT 2009  NO_QUERY   \n",
       "\n",
       "                    user                                               text   \n",
       "0        _TheSpecialOne_  @switchfoot http://twitpic.com/2y1zl - awww, t...  \\\n",
       "1          scotthamilton  is upset that he can't update his facebook by ...   \n",
       "2               mattycus  @kenichan i dived many times for the ball. man...   \n",
       "3                ElleCTF    my whole body feels itchy and like its on fire    \n",
       "4                 Karoli  @nationwideclass no, it's not behaving at all....   \n",
       "...                  ...                                                ...   \n",
       "1599995  AmandaMarie1028  just woke up. having no school is the best fee...   \n",
       "1599996      TheWDBoards  thewdb.com - very cool to hear old walt interv...   \n",
       "1599997           bpbabe  are you ready for your mojo makeover? ask me f...   \n",
       "1599998     tinydiamondz  happy 38th birthday to my boo of alll time!!! ...   \n",
       "1599999   RyanTrevMorris  happy #charitytuesday @thenspcc @sparkscharity...   \n",
       "\n",
       "                                                     text2   \n",
       "0        awww thats a bummer you shoulda got david carr...  \\\n",
       "1        is upset that he cant update his facebook by t...   \n",
       "2        i dived many times for the ball managed to sav...   \n",
       "3           my whole body feels itchy and like its on fire   \n",
       "4        no its not behaving at all im mad why am i her...   \n",
       "...                                                    ...   \n",
       "1599995  just woke up having no school is the best feel...   \n",
       "1599996    thewdbcom very cool to hear old walt interviews   \n",
       "1599997  are you ready for your mojo makeover ask me fo...   \n",
       "1599998  happy 38th birthday to my boo of alll time tup...   \n",
       "1599999                                              happy   \n",
       "\n",
       "                                                     text3         hashtags   \n",
       "0        thats a bummer you got carr of third day to do...              NaN  \\\n",
       "1        is upset that he cant update his by it and mig...              NaN   \n",
       "2        i many times for the ball to save the rest go ...              NaN   \n",
       "3                 my whole body itchy and like its on fire              NaN   \n",
       "4        no its not at all mad why am i here because i ...              NaN   \n",
       "...                                                    ...              ...   \n",
       "1599995    just woke up no school is the best feeling ever              NaN   \n",
       "1599996                         very cool to hear old walt              NaN   \n",
       "1599997             are you ready for your mojo ask me for              NaN   \n",
       "1599998                   happy birthday to my boo of time              NaN   \n",
       "1599999                                              happy  #charitytuesday   \n",
       "\n",
       "                                                    tokens   \n",
       "0        ['thats', 'a', 'bummer', 'you', 'got', 'carr',...  \\\n",
       "1        ['is', 'upset', 'that', 'he', 'cant', 'update'...   \n",
       "2        ['i', 'many', 'times', 'for', 'the', 'ball', '...   \n",
       "3        ['my', 'whole', 'body', 'itchy', 'and', 'like'...   \n",
       "4        ['no', 'its', 'not', 'at', 'all', 'mad', 'why'...   \n",
       "...                                                    ...   \n",
       "1599995  ['just', 'woke', 'up', 'no', 'school', 'is', '...   \n",
       "1599996      ['very', 'cool', 'to', 'hear', 'old', 'walt']   \n",
       "1599997  ['are', 'you', 'ready', 'for', 'your', 'mojo',...   \n",
       "1599998  ['happy', 'birthday', 'to', 'my', 'boo', 'of',...   \n",
       "1599999                                          ['happy']   \n",
       "\n",
       "                                   tokens_remove_stopwords  length_1  \n",
       "0        ['thats', 'bummer', 'got', 'carr', 'third', 'd...         6  \n",
       "1        ['upset', 'cant', 'update', 'might', 'cry', 'r...        10  \n",
       "2          ['many', 'times', 'ball', 'save', 'rest', 'go']         6  \n",
       "3               ['whole', 'body', 'itchy', 'like', 'fire']         5  \n",
       "4                                   ['mad', 'cant', 'see']         3  \n",
       "...                                                    ...       ...  \n",
       "1599995      ['woke', 'school', 'best', 'feeling', 'ever']         5  \n",
       "1599996                    ['cool', 'hear', 'old', 'walt']         4  \n",
       "1599997                           ['ready', 'mojo', 'ask']         3  \n",
       "1599998               ['happy', 'birthday', 'boo', 'time']         4  \n",
       "1599999                                          ['happy']         1  \n",
       "\n",
       "[1600000 rows x 12 columns]"
      ]
     },
     "execution_count": 3,
     "metadata": {},
     "output_type": "execute_result"
    }
   ],
   "source": [
    "data"
   ]
  },
  {
   "cell_type": "code",
   "execution_count": 4,
   "metadata": {},
   "outputs": [],
   "source": [
    "new = data['date'].str.split(\" \", expand = True)"
   ]
  },
  {
   "cell_type": "code",
   "execution_count": 5,
   "metadata": {},
   "outputs": [
    {
     "data": {
      "text/html": [
       "<div>\n",
       "<style scoped>\n",
       "    .dataframe tbody tr th:only-of-type {\n",
       "        vertical-align: middle;\n",
       "    }\n",
       "\n",
       "    .dataframe tbody tr th {\n",
       "        vertical-align: top;\n",
       "    }\n",
       "\n",
       "    .dataframe thead th {\n",
       "        text-align: right;\n",
       "    }\n",
       "</style>\n",
       "<table border=\"1\" class=\"dataframe\">\n",
       "  <thead>\n",
       "    <tr style=\"text-align: right;\">\n",
       "      <th></th>\n",
       "      <th>0</th>\n",
       "      <th>1</th>\n",
       "      <th>2</th>\n",
       "      <th>3</th>\n",
       "      <th>4</th>\n",
       "      <th>5</th>\n",
       "    </tr>\n",
       "  </thead>\n",
       "  <tbody>\n",
       "    <tr>\n",
       "      <th>0</th>\n",
       "      <td>Mon</td>\n",
       "      <td>Apr</td>\n",
       "      <td>06</td>\n",
       "      <td>22:19:45</td>\n",
       "      <td>PDT</td>\n",
       "      <td>2009</td>\n",
       "    </tr>\n",
       "    <tr>\n",
       "      <th>1</th>\n",
       "      <td>Mon</td>\n",
       "      <td>Apr</td>\n",
       "      <td>06</td>\n",
       "      <td>22:19:49</td>\n",
       "      <td>PDT</td>\n",
       "      <td>2009</td>\n",
       "    </tr>\n",
       "    <tr>\n",
       "      <th>2</th>\n",
       "      <td>Mon</td>\n",
       "      <td>Apr</td>\n",
       "      <td>06</td>\n",
       "      <td>22:19:53</td>\n",
       "      <td>PDT</td>\n",
       "      <td>2009</td>\n",
       "    </tr>\n",
       "    <tr>\n",
       "      <th>3</th>\n",
       "      <td>Mon</td>\n",
       "      <td>Apr</td>\n",
       "      <td>06</td>\n",
       "      <td>22:19:57</td>\n",
       "      <td>PDT</td>\n",
       "      <td>2009</td>\n",
       "    </tr>\n",
       "    <tr>\n",
       "      <th>4</th>\n",
       "      <td>Mon</td>\n",
       "      <td>Apr</td>\n",
       "      <td>06</td>\n",
       "      <td>22:19:57</td>\n",
       "      <td>PDT</td>\n",
       "      <td>2009</td>\n",
       "    </tr>\n",
       "    <tr>\n",
       "      <th>...</th>\n",
       "      <td>...</td>\n",
       "      <td>...</td>\n",
       "      <td>...</td>\n",
       "      <td>...</td>\n",
       "      <td>...</td>\n",
       "      <td>...</td>\n",
       "    </tr>\n",
       "    <tr>\n",
       "      <th>1599995</th>\n",
       "      <td>Tue</td>\n",
       "      <td>Jun</td>\n",
       "      <td>16</td>\n",
       "      <td>08:40:49</td>\n",
       "      <td>PDT</td>\n",
       "      <td>2009</td>\n",
       "    </tr>\n",
       "    <tr>\n",
       "      <th>1599996</th>\n",
       "      <td>Tue</td>\n",
       "      <td>Jun</td>\n",
       "      <td>16</td>\n",
       "      <td>08:40:49</td>\n",
       "      <td>PDT</td>\n",
       "      <td>2009</td>\n",
       "    </tr>\n",
       "    <tr>\n",
       "      <th>1599997</th>\n",
       "      <td>Tue</td>\n",
       "      <td>Jun</td>\n",
       "      <td>16</td>\n",
       "      <td>08:40:49</td>\n",
       "      <td>PDT</td>\n",
       "      <td>2009</td>\n",
       "    </tr>\n",
       "    <tr>\n",
       "      <th>1599998</th>\n",
       "      <td>Tue</td>\n",
       "      <td>Jun</td>\n",
       "      <td>16</td>\n",
       "      <td>08:40:49</td>\n",
       "      <td>PDT</td>\n",
       "      <td>2009</td>\n",
       "    </tr>\n",
       "    <tr>\n",
       "      <th>1599999</th>\n",
       "      <td>Tue</td>\n",
       "      <td>Jun</td>\n",
       "      <td>16</td>\n",
       "      <td>08:40:50</td>\n",
       "      <td>PDT</td>\n",
       "      <td>2009</td>\n",
       "    </tr>\n",
       "  </tbody>\n",
       "</table>\n",
       "<p>1600000 rows × 6 columns</p>\n",
       "</div>"
      ],
      "text/plain": [
       "           0    1   2         3    4     5\n",
       "0        Mon  Apr  06  22:19:45  PDT  2009\n",
       "1        Mon  Apr  06  22:19:49  PDT  2009\n",
       "2        Mon  Apr  06  22:19:53  PDT  2009\n",
       "3        Mon  Apr  06  22:19:57  PDT  2009\n",
       "4        Mon  Apr  06  22:19:57  PDT  2009\n",
       "...      ...  ...  ..       ...  ...   ...\n",
       "1599995  Tue  Jun  16  08:40:49  PDT  2009\n",
       "1599996  Tue  Jun  16  08:40:49  PDT  2009\n",
       "1599997  Tue  Jun  16  08:40:49  PDT  2009\n",
       "1599998  Tue  Jun  16  08:40:49  PDT  2009\n",
       "1599999  Tue  Jun  16  08:40:50  PDT  2009\n",
       "\n",
       "[1600000 rows x 6 columns]"
      ]
     },
     "execution_count": 5,
     "metadata": {},
     "output_type": "execute_result"
    }
   ],
   "source": [
    "new"
   ]
  },
  {
   "cell_type": "code",
   "execution_count": 6,
   "metadata": {},
   "outputs": [],
   "source": [
    "data['day'] = new[0]\n",
    "data['month'] = new[1]\n",
    "data['hours'] = new[3].str.split(\":\").str[0]"
   ]
  },
  {
   "attachments": {},
   "cell_type": "markdown",
   "metadata": {},
   "source": [
    "### **Number of tweets per week day**"
   ]
  },
  {
   "cell_type": "code",
   "execution_count": 7,
   "metadata": {},
   "outputs": [],
   "source": [
    "data['day'] = pd.Categorical(data['day'], categories=[\"Mon\",\"Tue\",\"Wed\",\"Thu\",\"Fri\",\"Sat\",\"Sun\"],ordered=True)"
   ]
  },
  {
   "cell_type": "code",
   "execution_count": 8,
   "metadata": {},
   "outputs": [
    {
     "data": {
      "text/plain": [
       "<AxesSubplot:title={'center':'Number of tweets per week day'}, xlabel='day'>"
      ]
     },
     "execution_count": 8,
     "metadata": {},
     "output_type": "execute_result"
    },
    {
     "data": {
      "image/png": "[encoded data removed]",
      "text/plain": [
       "<Figure size 432x288 with 1 Axes>"
      ]
     },
     "metadata": {
      "needs_background": "light"
     },
     "output_type": "display_data"
    }
   ],
   "source": [
    "colors = [\"yellow\",\"pink\",\"seagreen\",\"orange\",\"royalblue\",\"violet\",\"tomato\"]\n",
    "\n",
    "data['day'].groupby(data['day']).count().plot(kind=\"bar\", \n",
    "                                              title=\"Number of tweets per week day\", \n",
    "                                              color=colors)"
   ]
  },
  {
   "attachments": {},
   "cell_type": "markdown",
   "metadata": {},
   "source": [
    "### **Peak times to tweet in each week day**"
   ]
  },
  {
   "cell_type": "code",
   "execution_count": 9,
   "metadata": {},
   "outputs": [
    {
     "data": {
      "text/plain": [
       "<matplotlib.legend.Legend at 0x2133a2bb3d0>"
      ]
     },
     "execution_count": 9,
     "metadata": {},
     "output_type": "execute_result"
    },
    {
     "data": {
      "image/png": "[encoded data removed]",
      "text/plain": [
       "<Figure size 432x288 with 1 Axes>"
      ]
     },
     "metadata": {
      "needs_background": "light"
     },
     "output_type": "display_data"
    }
   ],
   "source": [
    "data.pivot_table(index = 'hours',\n",
    "                 columns = 'day',\n",
    "                 aggfunc={'hours':len})['hours'].sort_index()\\\n",
    "    .plot(kind=\"line\", grid=True, color=colors, title=\"Peak times to tweet in each week day\")\\\n",
    "    .legend(bbox_to_anchor=(1.0, 0.5))"
   ]
  },
  {
   "attachments": {},
   "cell_type": "markdown",
   "metadata": {},
   "source": [
    "### **Tweet length distributions**"
   ]
  },
  {
   "cell_type": "code",
   "execution_count": 10,
   "metadata": {},
   "outputs": [
    {
     "data": {
      "text/plain": [
       "<AxesSubplot:title={'center':'Tweet length distributions'}, ylabel='Frequency'>"
      ]
     },
     "execution_count": 10,
     "metadata": {},
     "output_type": "execute_result"
    },
    {
     "data": {
      "image/png": "[encoded data removed]",
      "text/plain": [
       "<Figure size 432x288 with 1 Axes>"
      ]
     },
     "metadata": {
      "needs_background": "light"
     },
     "output_type": "display_data"
    }
   ],
   "source": [
    "data['length_1'].plot(kind='hist', bins=35, title=\"Tweet length distributions\", edgecolor='black')"
   ]
  },
  {
   "attachments": {},
   "cell_type": "markdown",
   "metadata": {},
   "source": [
    "### **Tweets per Twitter account**"
   ]
  },
  {
   "cell_type": "code",
   "execution_count": 18,
   "metadata": {},
   "outputs": [
    {
     "data": {
      "text/plain": [
       "count      1600000\n",
       "unique      659775\n",
       "top       lost_dog\n",
       "freq           549\n",
       "Name: user, dtype: object"
      ]
     },
     "execution_count": 18,
     "metadata": {},
     "output_type": "execute_result"
    }
   ],
   "source": [
    "data['user'].describe()"
   ]
  },
  {
   "cell_type": "code",
   "execution_count": 43,
   "metadata": {},
   "outputs": [
    {
     "data": {
      "image/png": "[encoded data removed]",
      "text/plain": [
       "<Figure size 432x288 with 1 Axes>"
      ]
     },
     "metadata": {
      "needs_background": "light"
     },
     "output_type": "display_data"
    }
   ],
   "source": [
    "data['user'].value_counts().head(20).plot(kind=\"barh\", title=\"Tweets per Twitter account\", color=\"green\").invert_yaxis()"
   ]
  }
 ],
 "metadata": {
  "kernelspec": {
   "display_name": "base",
   "language": "python",
   "name": "python3"
  },
  "language_info": {
   "codemirror_mode": {
    "name": "ipython",
    "version": 3
   },
   "file_extension": ".py",
   "mimetype": "text/x-python",
   "name": "python",
   "nbconvert_exporter": "python",
   "pygments_lexer": "ipython3",
   "version": "3.8.8"
  },
  "orig_nbformat": 4
 },
 "nbformat": 4,
 "nbformat_minor": 2
}
